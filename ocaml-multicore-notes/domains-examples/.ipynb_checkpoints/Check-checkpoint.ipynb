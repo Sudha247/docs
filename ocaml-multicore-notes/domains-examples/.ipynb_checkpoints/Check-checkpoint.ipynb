{
 "cells": [
  {
   "cell_type": "code",
   "execution_count": 1,
   "metadata": {},
   "outputs": [
    {
     "data": {
      "text/plain": [
       "val points : int -> float -> float list = <fun>\n"
      ]
     },
     "execution_count": 1,
     "metadata": {},
     "output_type": "execute_result"
    }
   ],
   "source": [
    "let rec points i x = if (i <= 0) then [] else ( (float_of_int i) *. x) :: (points (i - 1) x) ;;"
   ]
  },
  {
   "cell_type": "code",
   "execution_count": 4,
   "metadata": {},
   "outputs": [
    {
     "data": {
      "text/plain": [
       "- : float list =\n",
       "[100.; 99.; 98.; 97.; 96.; 95.; 94.; 93.; 92.; 91.; 90.; 89.; 88.; 87.; 86.;\n",
       " 85.; 84.; 83.; 82.; 81.; 80.; 79.; 78.; 77.; 76.; 75.; 74.; 73.; 72.; 71.;\n",
       " 70.; 69.; 68.; 67.; 66.; 65.; 64.; 63.; 62.; 61.; 60.; 59.; 58.; 57.; 56.;\n",
       " 55.; 54.; 53.; 52.; 51.; 50.; 49.; 48.; 47.; 46.; 45.; 44.; 43.; 42.; 41.;\n",
       " 40.; 39.; 38.; 37.; 36.; 35.; 34.; 33.; 32.; 31.; 30.; 29.; 28.; 27.; 26.;\n",
       " 25.; 24.; 23.; 22.; 21.; 20.; 19.; 18.; 17.; 16.; 15.; 14.; 13.; 12.; 11.;\n",
       " 10.; 9.; 8.; 7.; 6.; 5.; 4.; 3.; 2.; 1.]\n"
      ]
     },
     "execution_count": 4,
     "metadata": {},
     "output_type": "execute_result"
    }
   ],
   "source": [
    "points 100 1."
   ]
  },
  {
   "cell_type": "code",
   "execution_count": 5,
   "metadata": {},
   "outputs": [
    {
     "data": {
      "text/plain": [
       "val f_of_x : float -> float = <fun>\n"
      ]
     },
     "execution_count": 5,
     "metadata": {},
     "output_type": "execute_result"
    }
   ],
   "source": [
    "let f_of_x x = 1. /. (1. +. x *. x);;"
   ]
  },
  {
   "cell_type": "code",
   "execution_count": 6,
   "metadata": {},
   "outputs": [
    {
     "data": {
      "text/plain": [
       "- : float list =\n",
       "[0.00990099009900990111; 0.0121951219512195126; 0.0153846153846153855; 0.02;\n",
       " 0.0270270270270270285; 0.0384615384615384637; 0.0588235294117647051; 0.1;\n",
       " 0.2; 0.5]\n"
      ]
     },
     "execution_count": 6,
     "metadata": {},
     "output_type": "execute_result"
    }
   ],
   "source": [
    "List.map (f_of_x) (points 10 1.)"
   ]
  },
  {
   "cell_type": "code",
   "execution_count": 13,
   "metadata": {},
   "outputs": [
    {
     "data": {
      "text/plain": [
       "val integration : (float -> float) -> float -> float -> int -> float = <fun>\n"
      ]
     },
     "execution_count": 13,
     "metadata": {},
     "output_type": "execute_result"
    }
   ],
   "source": [
    "let rec integration f a b n =\n",
    "        let h = (b -. a) /. (float_of_int n) in\n",
    "        let my_func x = 2. *. (f x) in\n",
    "        let inner = List.map (my_func) (points (n - 1) h) in\n",
    "        let innerSum = List.fold_left (+.) 0. inner in\n",
    "        h *. ( (f a) +. (f b) +. innerSum) /. 2.;;"
   ]
  },
  {
   "cell_type": "code",
   "execution_count": 15,
   "metadata": {},
   "outputs": [
    {
     "data": {
      "text/plain": [
       "- : float = 0.785398121730781\n"
      ]
     },
     "execution_count": 15,
     "metadata": {},
     "output_type": "execute_result"
    }
   ],
   "source": [
    "integration f_of_x 0. 1. 1000"
   ]
  }
 ],
 "metadata": {
  "kernelspec": {
   "display_name": "OCaml 4.07.1",
   "language": "OCaml",
   "name": "ocaml-jupyter"
  },
  "language_info": {
   "codemirror_mode": "text/x-ocaml",
   "file_extension": ".ml",
   "mimetype": "text/x-ocaml",
   "name": "OCaml",
   "nbconverter_exporter": null,
   "pygments_lexer": "OCaml",
   "version": "4.07.1"
  }
 },
 "nbformat": 4,
 "nbformat_minor": 4
}
